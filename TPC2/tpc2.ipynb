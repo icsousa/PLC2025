{
 "cells": [
  {
   "cell_type": "markdown",
   "id": "f3881416-7587-47b6-b296-1095d78b32bb",
   "metadata": {},
   "source": [
    "## TPC 2 - Conversor de MarkDown para HTML\n",
    "\n",
    "Criar em Python um pequeno conversor de MarkDown para HTML para os elementos descritos na \"Basic Syntax\" da Cheat Sheet:\n"
   ]
  },
  {
   "cell_type": "code",
   "execution_count": 2,
   "id": "45f82cdd-2bdd-4a3f-8260-b05389158895",
   "metadata": {},
   "outputs": [],
   "source": [
    "import re"
   ]
  },
  {
   "cell_type": "markdown",
   "id": "78c56da6-132a-462b-837e-0551d1498d5e",
   "metadata": {},
   "source": [
    "### Cabeçalhos: linhas iniciadas por \"# texto\", ou \"## texto\" ou \"### texto\"\n",
    "\n",
    "In: `# Exemplo`\n",
    "\n",
    "Out: `<h1>Exemplo</h1>`\n"
   ]
  },
  {
   "cell_type": "code",
   "execution_count": 3,
   "id": "385b8b5f-698f-46fa-ada7-9bf154518229",
   "metadata": {},
   "outputs": [
    {
     "name": "stdout",
     "output_type": "stream",
     "text": [
      "<h1>Hello</h1>\n",
      "<h2>My</h2>\n",
      "<h3>Friend</h3>\n"
     ]
    }
   ],
   "source": [
    "exemplo_1 = \"# Hello\"\n",
    "exemplo_2 = \"## My\"\n",
    "exemplo_3 = \"### Friend\"\n",
    "\n",
    "def troca_titulo(linha):\n",
    "    rc = re.compile(r\"^(#{1,3})\\s+(.+)\")\n",
    "    m = rc.match(linha)\n",
    "    if not m:\n",
    "        return linha\n",
    "    nivel = len(m.group(1))\n",
    "    conteudo = m.group(2)\n",
    "    return f\"<h{nivel}>{conteudo}</h{nivel}>\"\n",
    "\n",
    "print(troca_titulo(exemplo_1))\n",
    "print(troca_titulo(exemplo_2))\n",
    "print(troca_titulo(exemplo_3))"
   ]
  },
  {
   "cell_type": "markdown",
   "id": "33a6d334-787b-4965-827a-1d70b717e13d",
   "metadata": {},
   "source": [
    "### Bold: pedaços de texto entre \"**\":\n",
    "\n",
    "In: `Este é um **exemplo** ...`\n",
    "\n",
    "Out: `Este é um <b>exemplo</b> ...`\n",
    "\n",
    "### Itálico: pedaços de texto entre \"*\":\n",
    "\n",
    "In: `Este é um *exemplo* ...`\n",
    "\n",
    "Out: `Este é um <i>exemplo</i> ...`"
   ]
  },
  {
   "cell_type": "code",
   "execution_count": 4,
   "id": "590638d6-419b-4883-af7f-5c70ce5a70cd",
   "metadata": {},
   "outputs": [
    {
     "name": "stdout",
     "output_type": "stream",
     "text": [
      "Este é um <b>exemplo</b> ...\n",
      "Este é um <i>exemplo</i> ...\n",
      "Este é um <b><i>**exemplo</i></b> ...\n"
     ]
    }
   ],
   "source": [
    "exemplo_1 = \"Este é um **exemplo** ...\"\n",
    "exemplo_2 = \"Este é um *exemplo* ...\"\n",
    "exemplo_3 = \"Este é um *****exemplo*** ...\"\n",
    "\n",
    "def troca_bi(linha):\n",
    "    # primeiro bold+italico, depois bold, depois italico\n",
    "    linha = re.sub(r\"\\*\\*\\*(.+?)\\*\\*\\*\", r\"<b><i>\\1</i></b>\", linha)\n",
    "    linha = re.sub(r\"\\*\\*(.+?)\\*\\*\", r\"<b>\\1</b>\", linha)\n",
    "    linha = re.sub(r\"\\*(.+?)\\*\", r\"<i>\\1</i>\", linha)\n",
    "    return linha\n",
    "\n",
    "print(troca_bi(exemplo_1))\n",
    "print(troca_bi(exemplo_2))\n",
    "print(troca_bi(exemplo_3))"
   ]
  },
  {
   "cell_type": "markdown",
   "id": "553c0b38-a58c-434b-899f-2cca870da5de",
   "metadata": {},
   "source": [
    "\n",
    "### Lista numerada:\n",
    "\n",
    "In:\n",
    "```\n",
    "1. Primeiro item\n",
    "2. Segundo item\n",
    "3. Terceiro item\n",
    "```\n",
    "\n",
    "Out:\n",
    "```\n",
    "<ol>\n",
    "<li>Primeiro item</li>\n",
    "<li>Segundo item</li>\n",
    "<li>Terceiro item</li>\n",
    "</ol>\n",
    "```\n"
   ]
  },
  {
   "cell_type": "code",
   "execution_count": 5,
   "id": "5fb0f76a-d84f-4394-93c9-fabc85109756",
   "metadata": {},
   "outputs": [
    {
     "name": "stdout",
     "output_type": "stream",
     "text": [
      "<ol>\n",
      "<li>Primeiro item</li>\n",
      "<li>Segundo item</li>\n",
      "<li>Terceiro item</li>\n",
      "</ol>\n"
     ]
    }
   ],
   "source": [
    "exemplo = \"\"\"1. Primeiro item\n",
    "2. Segundo item\n",
    "3. Terceiro item\"\"\"\n",
    "\n",
    "def troca_lista(texto):\n",
    "    linhas = texto.splitlines()\n",
    "    saida = []\n",
    "    dentro_ol = False\n",
    "    dentro_ul = False\n",
    "    for linha in linhas:\n",
    "        m_ol = re.match(r\"^(\\d+)\\.\\s+(.+)\", linha)\n",
    "        m_ul = re.match(r\"^[-*]\\s+(.+)\", linha)\n",
    "        if m_ol:\n",
    "            if not dentro_ol:\n",
    "                if dentro_ul:\n",
    "                    saida.append(\"</ul>\")\n",
    "                    dentro_ul = False\n",
    "                saida.append(\"<ol>\")\n",
    "                dentro_ol = True\n",
    "            saida.append(f\"<li>{m_ol.group(2)}</li>\")\n",
    "        elif m_ul:\n",
    "            if not dentro_ul:\n",
    "                if dentro_ol:\n",
    "                    saida.append(\"</ol>\")\n",
    "                    dentro_ol = False\n",
    "                saida.append(\"<ul>\")\n",
    "                dentro_ul = True\n",
    "            saida.append(f\"<li>{m_ul.group(1)}</li>\")\n",
    "        else:\n",
    "            if dentro_ol:\n",
    "                saida.append(\"</ol>\")\n",
    "                dentro_ol = False\n",
    "            if dentro_ul:\n",
    "                saida.append(\"</ul>\")\n",
    "                dentro_ul = False\n",
    "            saida.append(linha)\n",
    "    if dentro_ol:\n",
    "        saida.append(\"</ol>\")\n",
    "    if dentro_ul:\n",
    "        saida.append(\"</ul>\")\n",
    "    return \"\\n\".join(saida)\n",
    "\n",
    "print(troca_lista(exemplo))"
   ]
  },
  {
   "cell_type": "markdown",
   "id": "37161c4a-13d9-45b0-b373-60d72bef26c5",
   "metadata": {},
   "source": [
    "### Link: [texto](endereço URL)\n",
    "\n",
    "In: `Como pode ser consultado em [página da UC](http://www.uc.pt)`\n",
    "\n",
    "Out: `Como pode ser consultado em <a href=\"http://www.uc.pt\">página da UC</a>`\n",
    "\n"
   ]
  },
  {
   "cell_type": "code",
   "execution_count": 6,
   "id": "ed7ae177-38c9-43d0-b543-c4a007ab6677",
   "metadata": {},
   "outputs": [
    {
     "name": "stdout",
     "output_type": "stream",
     "text": [
      "Como pode ser consultado em <a href=\"http://www.uc.pt\">página da UC</a>\n"
     ]
    }
   ],
   "source": [
    "exemplo = r\"Como pode ser consultado em [página da UC](http://www.uc.pt)\"\n",
    "\n",
    "def troca_link(linha):\n",
    "    rc = re.compile(r\"\\[([^\\]]+)\\]\\(([^)]+)\\)\")\n",
    "    return rc.sub(lambda m: f'<a href=\"{m.group(2)}\">{m.group(1)}</a>', linha)\n",
    "\n",
    "print(troca_link(exemplo))"
   ]
  },
  {
   "cell_type": "markdown",
   "id": "b212d67e-0423-4edd-b17a-fca5973d087b",
   "metadata": {},
   "source": [
    "### Imagem: ![texto alternativo](path para a imagem)\n",
    "\n",
    "In: `Como se vê na imagem seguinte: ![imagem dum coelho](http://www.coellho.com) ...`\n",
    "\n",
    "Out: `Como se vê na imagem seguinte: <img src=\"http://www.coellho.com\" alt=\"imagem dum coelho\"/> ...`"
   ]
  },
  {
   "cell_type": "code",
   "execution_count": 7,
   "id": "ef42854c-8ce3-4a6b-84cd-98c6befe6fab",
   "metadata": {},
   "outputs": [
    {
     "name": "stdout",
     "output_type": "stream",
     "text": [
      "Como se vê na imagem seguinte: <img src=\"http://www.coellho.com\" alt=\"imagem dum coelho\"/> ...\n"
     ]
    }
   ],
   "source": [
    "exemplo = r\"Como se vê na imagem seguinte: ![imagem dum coelho](http://www.coellho.com) ...\"\n",
    "\n",
    "def troca_imagem(linha):\n",
    "    rc = re.compile(r\"!\\[([^\\]]*)\\]\\(([^)]+)\\)\")\n",
    "    return rc.sub(lambda m: f'<img src=\"{m.group(2)}\" alt=\"{m.group(1)}\"/>', linha)\n",
    "\n",
    "print(troca_imagem(exemplo))"
   ]
  },
  {
   "cell_type": "markdown",
   "id": "aa8141eb-2cab-4272-b558-7f204c540579",
   "metadata": {},
   "source": [
    "### Conversor\n",
    "\n",
    "Agora, juntamos todas as funções na função `markdown_html()`"
   ]
  },
  {
   "cell_type": "code",
   "execution_count": 8,
   "id": "68822e90-99a2-4387-a96d-5039230c5bb8",
   "metadata": {},
   "outputs": [
    {
     "name": "stdout",
     "output_type": "stream",
     "text": [
      "<h2>Título</h2>\n",
      "Texto em <b>negrito</b> e <i>itálico</i>\n",
      "<ol>\n",
      "<li>Item</li>\n",
      "<li>Outro item</li>\n",
      "</ol>\n",
      "Um <a href=\"http://teste.com\">link</a>\n",
      "Uma imagem !<a href=\"http://img.com/x.png\">alt</a>\n"
     ]
    }
   ],
   "source": [
    "texto = \"\"\"## Título\n",
    "Texto em **negrito** e *itálico*\n",
    "1. Item\n",
    "2. Outro item\n",
    "Um [link](http://teste.com)\n",
    "Uma imagem ![alt](http://img.com/x.png)\"\"\"\n",
    "\n",
    "\n",
    "def markdown_html(texto):\n",
    "    texto = troca_lista(texto)\n",
    "    linhas_saida = []\n",
    "    for linha in texto.splitlines():\n",
    "        linha = troca_titulo(linha)\n",
    "        linha = troca_bi(linha)\n",
    "        linha = troca_link(linha)\n",
    "        linha = troca_imagem(linha)\n",
    "        linhas_saida.append(linha)\n",
    "    return \"\\n\".join(linhas_saida)\n",
    "\n",
    "print(markdown_html(texto))"
   ]
  }
 ],
 "metadata": {
  "kernelspec": {
   "display_name": "Python 3 (ipykernel)",
   "language": "python",
   "name": "python3"
  },
  "language_info": {
   "codemirror_mode": {
    "name": "ipython",
    "version": 3
   },
   "file_extension": ".py",
   "mimetype": "text/x-python",
   "name": "python",
   "nbconvert_exporter": "python",
   "pygments_lexer": "ipython3",
   "version": "3.13.7"
  }
 },
 "nbformat": 4,
 "nbformat_minor": 5
}
