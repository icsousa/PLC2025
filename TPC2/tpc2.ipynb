{
 "cells": [
  {
   "cell_type": "markdown",
   "id": "f3881416-7587-47b6-b296-1095d78b32bb",
   "metadata": {},
   "source": [
    "## TPC 2 - Conversor de MarkDown para HTML\n",
    "\n",
    "Criar em Python um pequeno conversor de MarkDown para HTML para os elementos descritos na \"Basic Syntax\" da Cheat Sheet:\n"
   ]
  },
  {
   "cell_type": "code",
   "execution_count": 4,
   "id": "45f82cdd-2bdd-4a3f-8260-b05389158895",
   "metadata": {},
   "outputs": [],
   "source": [
    "import re"
   ]
  },
  {
   "cell_type": "markdown",
   "id": "78c56da6-132a-462b-837e-0551d1498d5e",
   "metadata": {},
   "source": [
    "### Cabeçalhos: linhas iniciadas por \"# texto\", ou \"## texto\" ou \"### texto\"\n",
    "\n",
    "In: `# Exemplo`\n",
    "\n",
    "Out: `<h1>Exemplo</h1>`\n"
   ]
  },
  {
   "cell_type": "code",
   "execution_count": 8,
   "id": "385b8b5f-698f-46fa-ada7-9bf154518229",
   "metadata": {},
   "outputs": [
    {
     "name": "stdout",
     "output_type": "stream",
     "text": [
      "<h1>Hello</h1>\n",
      "<h2>My</h2>\n",
      "<h3>Friend</h3>\n"
     ]
    }
   ],
   "source": [
    "exemplo_1 = \"# Hello\"\n",
    "exemplo_2 = \"## My\"\n",
    "exemplo_3 = \"### Friend\"\n",
    "\n",
    "def troca_titulo(texto):\n",
    "    rc1 = re.compile(r\"(#+)\\s+(.+)\")\n",
    "    if len(rc1.match(texto).group(1)) == 1:\n",
    "        return rc1.sub(r\"<h1>\\2</h1>\",texto)\n",
    "    elif len(rc1.match(texto).group(1)) == 2:\n",
    "        return rc1.sub(r\"<h2>\\2</h2>\",texto)\n",
    "    else:\n",
    "        return rc1.sub(r\"<h3>\\2</h3>\",texto)\n",
    "\n",
    "print(troca_titulo(exemplo_1))\n",
    "print(troca_titulo(exemplo_2))\n",
    "print(troca_titulo(exemplo_3))"
   ]
  },
  {
   "cell_type": "markdown",
   "id": "33a6d334-787b-4965-827a-1d70b717e13d",
   "metadata": {},
   "source": [
    "### Bold: pedaços de texto entre \"**\":\n",
    "\n",
    "In: `Este é um **exemplo** ...`\n",
    "\n",
    "Out: `Este é um <b>exemplo</b> ...`\n",
    "\n",
    "### Itálico: pedaços de texto entre \"*\":\n",
    "\n",
    "In: `Este é um *exemplo* ...`\n",
    "\n",
    "Out: `Este é um <i>exemplo</i> ...`"
   ]
  },
  {
   "cell_type": "code",
   "execution_count": 15,
   "id": "590638d6-419b-4883-af7f-5c70ce5a70cd",
   "metadata": {},
   "outputs": [
    {
     "name": "stdout",
     "output_type": "stream",
     "text": [
      "Este é um <b>exemplo</b> ...\n",
      "Este é um <i>exemplo</i> ...\n",
      "Este é um *****exemplo*** ...\n"
     ]
    }
   ],
   "source": [
    "exemplo_1 = \"Este é um **exemplo** ...\"\n",
    "exemplo_2 = \"Este é um *exemplo* ...\"\n",
    "exemplo_3 = \"Este é um *****exemplo*** ...\"\n",
    "\n",
    "\n",
    "def troca_bi(texto):\n",
    "    rc2 = re.compile(r\"(\\*+)(.+?)(\\*+)\")\n",
    "    if len(rc2.search(texto).group(1)) == len(rc2.search(texto).group(3)):\n",
    "        if len(rc2.search(texto).group(1)) == 1:\n",
    "            return rc2.sub(r\"<i>\\2</i>\",texto)\n",
    "        elif len(rc2.search(texto).group(1)) == 2:\n",
    "            return rc2.sub(r\"<b>\\2</b>\",texto)\n",
    "        else:\n",
    "            return texto\n",
    "    else:\n",
    "        return texto\n",
    "\n",
    "print(troca_bi(exemplo_1))\n",
    "print(troca_bi(exemplo_2))\n",
    "print(troca_bi(exemplo_3))"
   ]
  },
  {
   "cell_type": "markdown",
   "id": "553c0b38-a58c-434b-899f-2cca870da5de",
   "metadata": {},
   "source": [
    "\n",
    "### Lista numerada:\n",
    "\n",
    "In:\n",
    "```\n",
    "1. Primeiro item\n",
    "2. Segundo item\n",
    "3. Terceiro item\n",
    "```\n",
    "\n",
    "Out:\n",
    "```\n",
    "<ol>\n",
    "<li>Primeiro item</li>\n",
    "<li>Segundo item</li>\n",
    "<li>Terceiro item</li>\n",
    "</ol>\n",
    "```\n"
   ]
  },
  {
   "cell_type": "code",
   "execution_count": 16,
   "id": "5fb0f76a-d84f-4394-93c9-fabc85109756",
   "metadata": {},
   "outputs": [
    {
     "name": "stdout",
     "output_type": "stream",
     "text": [
      "<ol>\n",
      "<li>Primeiro item</li>\n",
      "<li>Segundo item</li>\n",
      "<li>Terceiro item</li>\n",
      "</ol>\n"
     ]
    }
   ],
   "source": [
    "exemplo = \"\"\"1. Primeiro item\n",
    "2. Segundo item\n",
    "3. Terceiro item\"\"\"\n",
    "\n",
    "def troca_lista(texto):\n",
    "    linhas = texto.splitlines()\n",
    "    itens = []\n",
    "    for linha in linhas:\n",
    "        m = re.match(r\"\\d+\\.\\s+(.+)\", linha)\n",
    "        if m:\n",
    "            itens.append(f\"<li>{m.group(1)}</li>\")\n",
    "        else:\n",
    "            itens.append(linha)\n",
    "    \n",
    "    return \"<ol>\\n\" + \"\\n\".join(itens) + \"\\n</ol>\"\n",
    "\n",
    "print(troca_lista(exemplo))"
   ]
  },
  {
   "cell_type": "markdown",
   "id": "37161c4a-13d9-45b0-b373-60d72bef26c5",
   "metadata": {},
   "source": [
    "### Link: [texto](endereço URL)\n",
    "\n",
    "In: `Como pode ser consultado em [página da UC](http://www.uc.pt)`\n",
    "\n",
    "Out: `Como pode ser consultado em <a href=\"http://www.uc.pt\">página da UC</a>`\n",
    "\n"
   ]
  },
  {
   "cell_type": "code",
   "execution_count": 29,
   "id": "ed7ae177-38c9-43d0-b543-c4a007ab6677",
   "metadata": {},
   "outputs": [
    {
     "name": "stdout",
     "output_type": "stream",
     "text": [
      "Como pode ser consultado em <a href=\\\"http://www.uc.pt\\\">página da UC</a>\n"
     ]
    }
   ],
   "source": [
    "exemplo = r\"Como pode ser consultado em [página da UC](http://www.uc.pt)\"\n",
    "\n",
    "def troca_link(texto):\n",
    "    rc4 = re.compile(r\"\\[(.+?)\\]\\((.+?)\\)\")\n",
    "    return rc4.sub(r\"<a href=\\\"\\2\\\">\\1</a>\", texto)\n",
    "\n",
    "print(troca_link(exemplo))"
   ]
  },
  {
   "cell_type": "markdown",
   "id": "b212d67e-0423-4edd-b17a-fca5973d087b",
   "metadata": {},
   "source": [
    "### Imagem: ![texto alternativo](path para a imagem)\n",
    "\n",
    "In: `Como se vê na imagem seguinte: ![imagem dum coelho](http://www.coellho.com) ...`\n",
    "\n",
    "Out: `Como se vê na imagem seguinte: <img src=\"http://www.coellho.com\" alt=\"imagem dum coelho\"/> ...`"
   ]
  },
  {
   "cell_type": "code",
   "execution_count": 31,
   "id": "ef42854c-8ce3-4a6b-84cd-98c6befe6fab",
   "metadata": {},
   "outputs": [
    {
     "name": "stdout",
     "output_type": "stream",
     "text": [
      "Como se vê na imagem seguinte: <img src=\\\"http://www.coellho.com\\\"alt=\\\"imagem dum coelho\\\"/> ...\n"
     ]
    }
   ],
   "source": [
    "exemplo = r\"Como se vê na imagem seguinte: ![imagem dum coelho](http://www.coellho.com) ...\"\n",
    "\n",
    "def troca_imagem(texto):\n",
    "    rc5 = re.compile(r\"\\!\\[(.+?)\\]\\((.+?)\\)\")\n",
    "    return rc5.sub(r\"<img src=\\\"\\2\\\"alt=\\\"\\1\\\"/>\", texto)\n",
    "\n",
    "print(troca_imagem(exemplo))"
   ]
  }
 ],
 "metadata": {
  "kernelspec": {
   "display_name": "Python 3 (ipykernel)",
   "language": "python",
   "name": "python3"
  },
  "language_info": {
   "codemirror_mode": {
    "name": "ipython",
    "version": 3
   },
   "file_extension": ".py",
   "mimetype": "text/x-python",
   "name": "python",
   "nbconvert_exporter": "python",
   "pygments_lexer": "ipython3",
   "version": "3.13.7"
  }
 },
 "nbformat": 4,
 "nbformat_minor": 5
}
